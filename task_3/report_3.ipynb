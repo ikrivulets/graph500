{
 "cells": [
  {
   "cell_type": "markdown",
   "metadata": {},
   "source": [
    "# Задание 3[ + 0..5 баллов к 1 или 2] Параметры графа Кронекера\n",
    "\n",
    "В данном задании генерировал требуемый минимум: 1000 случайных графов scale=12(все что больше просчитывалось на порядок дольше, потому что просчитывалось на Python). Для генерации графов использовал  генератор из исходников graph500, добавив в соответствующем месте вывод ребер как пара вершин в graph.txt.\n",
    "Итак, имея сгенерированный граф в txt, считал его характеристики используя библиотеку networkx на Python, так как, судя по отзывам, относительно быстрая, способная оперировать графами порядка миллионов вершин(что и требуется) и хорошо <a href=\"https://networkx.readthedocs.io/en/stable/\"> документирована </a>.\n",
    "Ниже код, получающий на вход граф, обсчитывающий его диаметр, среднее расстояние между вершинами, записывающий итог в [out_all_new.txt](out_all_new.txt),  и параллельно добавляющий степени вершин графа в [all_degrees.txt](all_degrees.txt) для последующего построения гистограммы. Генерировал 1000 графов и подсчет их характеристик скриптом вида [gen_graph.sh](gen_graph.sh) из папки с референс кодом."
   ]
  },
  {
   "cell_type": "code",
   "execution_count": 10,
   "metadata": {
    "collapsed": false
   },
   "outputs": [],
   "source": [
    "import networkx as nx\n",
    "import numpy\n",
    "import matplotlib.pyplot as plt\n",
    "%matplotlib inline\n",
    "from collections import Counter\n",
    "\n",
    "\n",
    "\n",
    "f = open('graph12.txt', 'r')\n",
    "f.readline()\n",
    "g = nx.Graph()\n",
    "\n",
    "for line in f:\n",
    "    edge = [int(el) for el in line.split(',')]\n",
    "    g.add_edge(edge[0],edge[1])\n",
    "f.close()\n",
    "\n",
    "graphs = list(nx.connected_component_subgraphs(g))\n",
    "connected = 'yes' if len(graphs) == 1 else 'no'\n",
    "\n",
    "count_nodes = 0\n",
    "all_path = 0\n",
    "diameter = 0\n",
    "\n",
    "degree_file = open('all_degrees.txt', 'a')\n",
    "for graph in graphs:\n",
    "    p = nx.shortest_path_length(graph)\n",
    "    graph.node\n",
    "    nodes = graph.nodes()\n",
    "    count_nodes += (len(nodes)*len(nodes))\n",
    "    for v1 in nodes:\n",
    "        degree_file.write('{}\\n'.format(graph.degree(v1)))\n",
    "        for v2 in nodes:\n",
    "            diameter = p[v1][v2] if p[v1][v2] > diameter else diameter\n",
    "            all_path += p[v1][v2]\n",
    "degree_file.close()\n",
    "avg_path = all_path / float(count_nodes)\n",
    "\n",
    "f = open('out_all_new.txt', 'a')\n",
    "f.write('{} {} {}\\n'.format(diameter, avg_path, connected))\n",
    "f.close()\n"
   ]
  },
  {
   "cell_type": "markdown",
   "metadata": {},
   "source": [
    "### Взглянув на итоговый файл с диаметрами  могу сказать, что в абсолютном большинстве случае диаметром являлась 6, реже 5 и очень изредка 7. \n",
    "### Среднее расстояние между вершинами колебалось в диапазоне 2,63-2,67. \n",
    "### Граф являлся несвязным абсолютно во всех случаях, потому что часто было порядка чуть ли не половины изолированных вершин, поэтому ради интереса в своем коде я их не учитывал и добавлял только те, вершины между которыми есть ребра. Поэтому если в третьей колонке файла yes, то это значит, что там была одна большая компонента свзяности(если забыть об изолированных вершинах), no - встречаются пару ребер, изолированных от основной компоненты свзяности графа."
   ]
  },
  {
   "cell_type": "markdown",
   "metadata": {},
   "source": [
    "## Гистограмма  степеней вершин:"
   ]
  },
  {
   "cell_type": "code",
   "execution_count": 3,
   "metadata": {
    "collapsed": false
   },
   "outputs": [
    {
     "data": {
      "text/plain": [
       "(array([  7.70595000e+05,   8.57910000e+04,   1.22213000e+05,\n",
       "          3.85930000e+04,   1.48000000e+02,   1.48000000e+02,\n",
       "          1.08600000e+04,   4.30010000e+04,   1.84840000e+04,\n",
       "          9.81000000e+02,   6.00000000e+00,   0.00000000e+00,\n",
       "          0.00000000e+00,   0.00000000e+00,   0.00000000e+00,\n",
       "          0.00000000e+00,   5.60000000e+01,   1.04600000e+03,\n",
       "          6.35800000e+03,   9.50300000e+03,   4.37700000e+03,\n",
       "          6.78000000e+02,   2.40000000e+01,   2.00000000e+00,\n",
       "          0.00000000e+00,   0.00000000e+00,   0.00000000e+00,\n",
       "          0.00000000e+00,   0.00000000e+00,   0.00000000e+00,\n",
       "          0.00000000e+00,   0.00000000e+00,   0.00000000e+00,\n",
       "          0.00000000e+00,   0.00000000e+00,   0.00000000e+00,\n",
       "          0.00000000e+00,   0.00000000e+00,   0.00000000e+00,\n",
       "          1.20000000e+01,   1.02000000e+02,   4.78000000e+02,\n",
       "          1.11300000e+03,   1.38400000e+03,   7.01000000e+02,\n",
       "          1.89000000e+02,   2.70000000e+01,   2.00000000e+00,\n",
       "          0.00000000e+00,   0.00000000e+00,   0.00000000e+00,\n",
       "          0.00000000e+00,   0.00000000e+00,   0.00000000e+00,\n",
       "          0.00000000e+00,   0.00000000e+00,   0.00000000e+00,\n",
       "          0.00000000e+00,   0.00000000e+00,   0.00000000e+00,\n",
       "          0.00000000e+00,   0.00000000e+00,   0.00000000e+00,\n",
       "          0.00000000e+00,   0.00000000e+00,   0.00000000e+00,\n",
       "          0.00000000e+00,   0.00000000e+00,   0.00000000e+00,\n",
       "          0.00000000e+00,   0.00000000e+00,   0.00000000e+00,\n",
       "          0.00000000e+00,   0.00000000e+00,   0.00000000e+00,\n",
       "          0.00000000e+00,   0.00000000e+00,   0.00000000e+00,\n",
       "          1.00000000e+00,   7.00000000e+00,   2.80000000e+01,\n",
       "          8.20000000e+01,   8.50000000e+01,   8.30000000e+01,\n",
       "          3.50000000e+01,   8.00000000e+00,   4.00000000e+00,\n",
       "          1.00000000e+00,   0.00000000e+00,   0.00000000e+00,\n",
       "          0.00000000e+00,   0.00000000e+00,   0.00000000e+00,\n",
       "          0.00000000e+00,   0.00000000e+00,   0.00000000e+00,\n",
       "          0.00000000e+00,   0.00000000e+00,   0.00000000e+00]),\n",
       " array([    0.        ,    16.16161616,    32.32323232,    48.48484848,\n",
       "           64.64646465,    80.80808081,    96.96969697,   113.13131313,\n",
       "          129.29292929,   145.45454545,   161.61616162,   177.77777778,\n",
       "          193.93939394,   210.1010101 ,   226.26262626,   242.42424242,\n",
       "          258.58585859,   274.74747475,   290.90909091,   307.07070707,\n",
       "          323.23232323,   339.39393939,   355.55555556,   371.71717172,\n",
       "          387.87878788,   404.04040404,   420.2020202 ,   436.36363636,\n",
       "          452.52525253,   468.68686869,   484.84848485,   501.01010101,\n",
       "          517.17171717,   533.33333333,   549.49494949,   565.65656566,\n",
       "          581.81818182,   597.97979798,   614.14141414,   630.3030303 ,\n",
       "          646.46464646,   662.62626263,   678.78787879,   694.94949495,\n",
       "          711.11111111,   727.27272727,   743.43434343,   759.5959596 ,\n",
       "          775.75757576,   791.91919192,   808.08080808,   824.24242424,\n",
       "          840.4040404 ,   856.56565657,   872.72727273,   888.88888889,\n",
       "          905.05050505,   921.21212121,   937.37373737,   953.53535354,\n",
       "          969.6969697 ,   985.85858586,  1002.02020202,  1018.18181818,\n",
       "         1034.34343434,  1050.50505051,  1066.66666667,  1082.82828283,\n",
       "         1098.98989899,  1115.15151515,  1131.31313131,  1147.47474747,\n",
       "         1163.63636364,  1179.7979798 ,  1195.95959596,  1212.12121212,\n",
       "         1228.28282828,  1244.44444444,  1260.60606061,  1276.76767677,\n",
       "         1292.92929293,  1309.09090909,  1325.25252525,  1341.41414141,\n",
       "         1357.57575758,  1373.73737374,  1389.8989899 ,  1406.06060606,\n",
       "         1422.22222222,  1438.38383838,  1454.54545455,  1470.70707071,\n",
       "         1486.86868687,  1503.03030303,  1519.19191919,  1535.35353535,\n",
       "         1551.51515152,  1567.67676768,  1583.83838384,  1600.        ]),\n",
       " <a list of 99 Patch objects>)"
      ]
     },
     "execution_count": 3,
     "metadata": {},
     "output_type": "execute_result"
    },
    {
     "data": {
      "image/png": "[encoded data removed]",
      "text/plain": [
       "<matplotlib.figure.Figure at 0x7f7c71b7d510>"
      ]
     },
     "metadata": {},
     "output_type": "display_data"
    }
   ],
   "source": [
    "import matplotlib\n",
    "import matplotlib.pyplot as plt\n",
    "%matplotlib inline\n",
    "import numpy\n",
    "f = open('all_degrees.txt', 'r')\n",
    "degrees = []\n",
    "for line in f:\n",
    "    degrees.append(int(line))\n",
    "f.close()\n",
    "\n",
    "bins = numpy.linspace(0, 1600, 100)\n",
    "matplotlib.rcParams['figure.figsize'] = (17.0, 10.0)\n",
    "plt.hist(degrees,bins)\n"
   ]
  },
  {
   "cell_type": "markdown",
   "metadata": {
    "collapsed": true
   },
   "source": [
    "### Собственно получили то, чего и требовалось ожидать - большинство вершин имело малую степень,чем дальше. Интересны небольшие  \"холмы\" в районе степеней 300 и 700, я так подозреваю, это что-то вроде центральных вершин компоненты свзяности, так называемых знаменитостей, имеющих много связей."
   ]
  },
  {
   "cell_type": "code",
   "execution_count": null,
   "metadata": {
    "collapsed": true
   },
   "outputs": [],
   "source": []
  }
 ],
 "metadata": {
  "kernelspec": {
   "display_name": "Python 2",
   "language": "python",
   "name": "python2"
  },
  "language_info": {
   "codemirror_mode": {
    "name": "ipython",
    "version": 2
   },
   "file_extension": ".py",
   "mimetype": "text/x-python",
   "name": "python",
   "nbconvert_exporter": "python",
   "pygments_lexer": "ipython2",
   "version": "2.7.11+"
  }
 },
 "nbformat": 4,
 "nbformat_minor": 0
}
